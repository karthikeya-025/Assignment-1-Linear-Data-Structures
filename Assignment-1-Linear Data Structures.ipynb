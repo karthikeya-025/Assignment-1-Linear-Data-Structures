{
 "cells": [
  {
   "cell_type": "markdown",
   "id": "a7474eea",
   "metadata": {},
   "source": [
    "# Graph"
   ]
  },
  {
   "cell_type": "code",
   "execution_count": null,
   "id": "c21d0877",
   "metadata": {},
   "outputs": [],
   "source": [
    "class Graph:\n",
    "    def __init__(self,size):\n",
    "        self.size = size\n",
    "        self.graph = []\n",
    "        self.vertex = []\n",
    "    def add_vertex(self,v1,v2,x):\n",
    "        if x in self.vertex"
   ]
  }
 ],
 "metadata": {
  "kernelspec": {
   "display_name": "Python 3 (ipykernel)",
   "language": "python",
   "name": "python3"
  },
  "language_info": {
   "codemirror_mode": {
    "name": "ipython",
    "version": 3
   },
   "file_extension": ".py",
   "mimetype": "text/x-python",
   "name": "python",
   "nbconvert_exporter": "python",
   "pygments_lexer": "ipython3",
   "version": "3.10.9"
  }
 },
 "nbformat": 4,
 "nbformat_minor": 5
}
